{
 "cells": [
  {
   "cell_type": "markdown",
   "metadata": {},
   "source": [
    "<center>\n",
    "    <img src=\"https://cf-courses-data.s3.us.cloud-object-storage.appdomain.cloud/IBMDeveloperSkillsNetwork-DS0105EN-SkillsNetwork/labs/Module2/images/SN_web_lightmode.png\" width=\"300\" alt=\"cognitiveclass.ai logo\"  />\n",
    "</center>\n"
   ]
  },
  {
   "cell_type": "markdown",
   "metadata": {},
   "source": [
    "#### Add your code below following the instructions given in the course\n"
   ]
  },
  {
   "cell_type": "markdown",
   "metadata": {},
   "source": [
    "# My Jupyter Notebook on IBM Watson Studio"
   ]
  },
  {
   "cell_type": "markdown",
   "metadata": {},
   "source": [
    "**Toni Torrubia** <br> Civil Engineer"
   ]
  },
  {
   "cell_type": "markdown",
   "metadata": {},
   "source": [
    "*I am a civil engineer and I am currently doing a master's degree in data science so that I can become a data scientist and thus be able to change to a field of work that I really like.*"
   ]
  },
  {
   "cell_type": "markdown",
   "metadata": {},
   "source": [
    "### My code below is to print \"Hello world\"."
   ]
  },
  {
   "cell_type": "code",
   "execution_count": 1,
   "metadata": {},
   "outputs": [
    {
     "name": "stdout",
     "output_type": "stream",
     "text": [
      "Hello world\n"
     ]
    }
   ],
   "source": [
    "print(\"Hello world\")"
   ]
  },
  {
   "cell_type": "markdown",
   "metadata": {},
   "source": [
    "---\n",
    "\n",
    "Horizontal Rule is applied between tasks.\n",
    "\n",
    "---\n",
    "\n",
    "* one\n",
    "* two\n",
    "* three\n",
    "\n",
    "---\n",
    "\n",
    "1. January\n",
    "2. February\n",
    "3. March\n",
    "\n",
    "---\n",
    "\n",
    "| Tasks           | Order |\n",
    "|:---------------:|:-----:|\n",
    "| Horizontal Rule | 1     |\n",
    "| Bulleted List   | 2     |\n",
    "| Numbered List   | 3     |\n",
    "| Tables          | 4     |\n",
    "| Hyperlinks      | 5     |\n",
    "| Blocked Quotes  | 6     |\n",
    "| Strikethrough   | 7     |\n",
    "\n",
    "---\n",
    "\n",
    "[Google Hyperlink](https://www.google.com)\n",
    "\n",
    "---\n",
    "\n",
    "> Blocked Quotes\n",
    "\n",
    "---\n",
    "\n",
    "~~Strikethrough~~\n",
    "\n",
    "---"
   ]
  }
 ],
 "metadata": {
  "kernelspec": {
   "display_name": "Python 3 (ipykernel)",
   "language": "python",
   "name": "python3"
  },
  "language_info": {
   "codemirror_mode": {
    "name": "ipython",
    "version": 3
   },
   "file_extension": ".py",
   "mimetype": "text/x-python",
   "name": "python",
   "nbconvert_exporter": "python",
   "pygments_lexer": "ipython3",
   "version": "3.9.13"
  }
 },
 "nbformat": 4,
 "nbformat_minor": 4
}
